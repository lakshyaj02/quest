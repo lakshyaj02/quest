{
 "cells": [
  {
   "cell_type": "code",
   "execution_count": 1,
   "metadata": {},
   "outputs": [],
   "source": [
    "import torch\n",
    "import numpy as np"
   ]
  },
  {
   "cell_type": "code",
   "execution_count": 27,
   "metadata": {},
   "outputs": [
    {
     "name": "stdout",
     "output_type": "stream",
     "text": [
      "torch.Size([1, 4, 2, 2])\n",
      "tensor([[[[7, 5, 8],\n",
      "          [9, 9, 3],\n",
      "          [9, 5, 8],\n",
      "          [9, 1, 5]],\n",
      "\n",
      "         [[1, 7, 3],\n",
      "          [9, 9, 0],\n",
      "          [0, 4, 1],\n",
      "          [4, 9, 5]]]])\n",
      "tensor([[[[5, 7, 8],\n",
      "          [3, 9, 9],\n",
      "          [5, 8, 9],\n",
      "          [1, 5, 9]],\n",
      "\n",
      "         [[1, 3, 7],\n",
      "          [0, 9, 9],\n",
      "          [0, 1, 4],\n",
      "          [4, 5, 9]]]])\n"
     ]
    }
   ],
   "source": [
    "batch_size = 1\n",
    "seq_len = 4\n",
    "num_hashes= 2\n",
    "num_buckets = 3  # seq_len/bucket_size\n",
    "bucket_size = 2    \n",
    "\n",
    "arr = torch.randint(0, 10, (batch_size, num_hashes, seq_len, num_buckets))\n",
    "arr = torch.squeeze(arr, 1)\n",
    "\n",
    "bucket_range = torch.arange(arr.shape[-1])\n",
    "bucket_range = torch.reshape(bucket_range, (1, -1))\n",
    "buckets = bucket_range.expand_as(arr)\n",
    "\n",
    "values, indices = arr.sort(-1)\n",
    "buckets = buckets.gather(-1, indices)\n",
    "\n",
    "buckets = buckets[... , -num_hashes:].transpose(1, 2)\n",
    "print(buckets.shape)\n",
    "\n",
    "offsets = torch.arange(num_hashes)\n",
    "offsets = torch.reshape(offsets*num_buckets, (1, -1, 1))\n",
    "buckets = torch.reshape(buckets + offsets, (batch_size, -1,))\n",
    "\n",
    "print(arr)\n",
    "print(values)"
   ]
  },
  {
   "cell_type": "code",
   "execution_count": null,
   "metadata": {},
   "outputs": [],
   "source": []
  }
 ],
 "metadata": {
  "kernelspec": {
   "display_name": "pytorch",
   "language": "python",
   "name": "python3"
  },
  "language_info": {
   "codemirror_mode": {
    "name": "ipython",
    "version": 3
   },
   "file_extension": ".py",
   "mimetype": "text/x-python",
   "name": "python",
   "nbconvert_exporter": "python",
   "pygments_lexer": "ipython3",
   "version": "3.11.5"
  }
 },
 "nbformat": 4,
 "nbformat_minor": 2
}
